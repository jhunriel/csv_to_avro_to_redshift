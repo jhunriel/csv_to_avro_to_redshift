{
 "cells": [
  {
   "cell_type": "code",
   "execution_count": 1,
   "id": "1afde4d1",
   "metadata": {},
   "outputs": [],
   "source": [
    "import pandas as pd\n",
    "import os\n",
    "import psycopg2\n",
    "import boto3"
   ]
  },
  {
   "cell_type": "markdown",
   "id": "ac97ff2a",
   "metadata": {},
   "source": [
    "### Upload to S3"
   ]
  },
  {
   "cell_type": "code",
   "execution_count": 2,
   "id": "2340d5f6",
   "metadata": {},
   "outputs": [],
   "source": [
    "bucket = os.environ[\"AWS_S3_SCRATCH_SPACE\"]\n",
    "iamrole = os.environ[\"STS_ROLE_ARN\"]\n",
    "\n",
    "def upload_s3(file,bucket):\n",
    "    client = boto3.client('s3',\\\n",
    "                          aws_access_key_id = os.environ[\"AWS_ACCESS_KEY_ID\"],\\\n",
    "                          aws_secret_access_key = os.environ[\"AWS_SECRET_ACCESS_KEY\"]\n",
    "                         )\n",
    "    return client.upload_file(file,bucket,file)"
   ]
  },
  {
   "cell_type": "code",
   "execution_count": 3,
   "id": "1b3c2761",
   "metadata": {},
   "outputs": [
    {
     "name": "stdout",
     "output_type": "stream",
     "text": [
      "campaign.csv has been successfully uploaded to S3\n",
      "reward_campaign.csv has been successfully uploaded to S3\n",
      "reward_transaction.csv has been successfully uploaded to S3\n"
     ]
    }
   ],
   "source": [
    "files = ['campaign.csv','reward_campaign.csv','reward_transaction.csv']\n",
    "\n",
    "for i in range(3):\n",
    "    upload_s3(files[i],bucket)\n",
    "    print(f'''{files[i]} has been successfully uploaded to S3''')"
   ]
  },
  {
   "cell_type": "markdown",
   "id": "8dd0ae68",
   "metadata": {},
   "source": [
    "### Load to Redshift"
   ]
  },
  {
   "cell_type": "code",
   "execution_count": 14,
   "id": "00dbce2a",
   "metadata": {},
   "outputs": [],
   "source": [
    "def s3_to_redshift(tbl,file):\n",
    "    conn = psycopg2.connect(\n",
    "        host=os.environ[\"AWS_REDSHIFT_HOST\"],\n",
    "        user=os.environ[\"AWS_REDSHIFT_USER\"],\n",
    "        port=os.environ[\"AWS_REDSHIFT_PORT\"],\n",
    "        password=os.environ[\"AWS_REDSHIFT_PASSWORD\"],\n",
    "        dbname=os.environ[\"DATABASE\"]\n",
    "        )\n",
    "    cur = conn.cursor()\n",
    "    cur.execute(f'''truncate table {tbl};''')\n",
    "    print(f\"{tbl} Successfully Truncated\")\n",
    "    cur.execute(f'''copy {tbl} from 's3://{bucket}/{file}' iam_role '{iamrole}' \n",
    "                ;''')\n",
    "    conn.commit()\n",
    "    conn.close()\n",
    "    print(f\"{tbl} Successfully Loaded\")"
   ]
  },
  {
   "cell_type": "code",
   "execution_count": 15,
   "id": "df659a09",
   "metadata": {},
   "outputs": [
    {
     "name": "stdout",
     "output_type": "stream",
     "text": [
      "campaign Successfully Truncated\n"
     ]
    },
    {
     "ename": "InternalError_",
     "evalue": "Load into table 'campaign' failed.  Check 'stl_load_errors' system table for details.\n",
     "output_type": "error",
     "traceback": [
      "\u001b[0;31m---------------------------------------------------------------------------\u001b[0m",
      "\u001b[0;31mInternalError_\u001b[0m                            Traceback (most recent call last)",
      "\u001b[0;32m/var/folders/xx/jkhjg71942g2mqmn230096cc0000gn/T/ipykernel_19488/3624979699.py\u001b[0m in \u001b[0;36m<module>\u001b[0;34m\u001b[0m\n\u001b[1;32m      2\u001b[0m     \u001b[0mtable\u001b[0m \u001b[0;34m=\u001b[0m \u001b[0mfiles\u001b[0m\u001b[0;34m[\u001b[0m\u001b[0mi\u001b[0m\u001b[0;34m]\u001b[0m\u001b[0;34m[\u001b[0m\u001b[0;34m:\u001b[0m\u001b[0;34m-\u001b[0m\u001b[0;36m4\u001b[0m\u001b[0;34m]\u001b[0m\u001b[0;34m\u001b[0m\u001b[0;34m\u001b[0m\u001b[0m\n\u001b[1;32m      3\u001b[0m     \u001b[0mfile\u001b[0m \u001b[0;34m=\u001b[0m \u001b[0mfiles\u001b[0m\u001b[0;34m[\u001b[0m\u001b[0mi\u001b[0m\u001b[0;34m]\u001b[0m\u001b[0;34m\u001b[0m\u001b[0;34m\u001b[0m\u001b[0m\n\u001b[0;32m----> 4\u001b[0;31m     \u001b[0ms3_to_redshift\u001b[0m\u001b[0;34m(\u001b[0m\u001b[0mtable\u001b[0m\u001b[0;34m,\u001b[0m\u001b[0mfile\u001b[0m\u001b[0;34m)\u001b[0m\u001b[0;34m\u001b[0m\u001b[0;34m\u001b[0m\u001b[0m\n\u001b[0m",
      "\u001b[0;32m/var/folders/xx/jkhjg71942g2mqmn230096cc0000gn/T/ipykernel_19488/866242197.py\u001b[0m in \u001b[0;36ms3_to_redshift\u001b[0;34m(tbl, file)\u001b[0m\n\u001b[1;32m     10\u001b[0m     \u001b[0mcur\u001b[0m\u001b[0;34m.\u001b[0m\u001b[0mexecute\u001b[0m\u001b[0;34m(\u001b[0m\u001b[0;34mf'''truncate table {tbl};'''\u001b[0m\u001b[0;34m)\u001b[0m\u001b[0;34m\u001b[0m\u001b[0;34m\u001b[0m\u001b[0m\n\u001b[1;32m     11\u001b[0m     \u001b[0mprint\u001b[0m\u001b[0;34m(\u001b[0m\u001b[0;34mf\"{tbl} Successfully Truncated\"\u001b[0m\u001b[0;34m)\u001b[0m\u001b[0;34m\u001b[0m\u001b[0;34m\u001b[0m\u001b[0m\n\u001b[0;32m---> 12\u001b[0;31m     cur.execute(f'''copy {tbl} from 's3://{bucket}/{file}' iam_role '{iamrole}' \n\u001b[0m\u001b[1;32m     13\u001b[0m                 ;''')\n\u001b[1;32m     14\u001b[0m     \u001b[0mconn\u001b[0m\u001b[0;34m.\u001b[0m\u001b[0mcommit\u001b[0m\u001b[0;34m(\u001b[0m\u001b[0;34m)\u001b[0m\u001b[0;34m\u001b[0m\u001b[0;34m\u001b[0m\u001b[0m\n",
      "\u001b[0;31mInternalError_\u001b[0m: Load into table 'campaign' failed.  Check 'stl_load_errors' system table for details.\n"
     ]
    }
   ],
   "source": [
    "for i in range(3):\n",
    "    table = files[i][:-4]\n",
    "    file = files[i]\n",
    "    s3_to_redshift(table,file)"
   ]
  },
  {
   "cell_type": "code",
   "execution_count": null,
   "id": "b1d3b572",
   "metadata": {},
   "outputs": [],
   "source": []
  }
 ],
 "metadata": {
  "kernelspec": {
   "display_name": "Python 3.9.6 64-bit ('PerxTech-RuriMiE7': pipenv)",
   "language": "python",
   "name": "python396jvsc74a57bd00459351916d1a1afa25b9b99d1f4f6322990844a140b3209168cf3749623bb46"
  },
  "language_info": {
   "codemirror_mode": {
    "name": "ipython",
    "version": 3
   },
   "file_extension": ".py",
   "mimetype": "text/x-python",
   "name": "python",
   "nbconvert_exporter": "python",
   "pygments_lexer": "ipython3",
   "version": "3.9.6"
  }
 },
 "nbformat": 4,
 "nbformat_minor": 5
}
