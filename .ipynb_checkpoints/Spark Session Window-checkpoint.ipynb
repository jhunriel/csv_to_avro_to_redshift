{
 "cells": [
  {
   "cell_type": "code",
   "execution_count": 47,
   "metadata": {},
   "outputs": [],
   "source": [
    "from pyspark.sql import SparkSession\n",
    "from pyspark.sql.types import *\n",
    "from pyspark.sql.window import Window\n",
    "from pyspark.sql.functions import col, lag, unix_timestamp, when\n",
    "from pyspark.sql.functions import sum, min, max, count"
   ]
  },
  {
   "cell_type": "code",
   "execution_count": 4,
   "metadata": {},
   "outputs": [
    {
     "name": "stderr",
     "output_type": "stream",
     "text": [
      "21/08/14 00:19:58 WARN NativeCodeLoader: Unable to load native-hadoop library for your platform... using builtin-java classes where applicable\n",
      "Using Spark's default log4j profile: org/apache/spark/log4j-defaults.properties\n",
      "Setting default log level to \"WARN\".\n",
      "To adjust logging level use sc.setLogLevel(newLevel). For SparkR, use setLogLevel(newLevel).\n"
     ]
    }
   ],
   "source": [
    "spark = SparkSession\\\n",
    "    .builder\\\n",
    "    .config(\"spark.executor.instances\", \"2\")\\\n",
    "    .config(\"spark.executor.cores\", \"2\")\\\n",
    "    .config(\"spark.executor.memory\", \"2g\")\\\n",
    "    .config(\"spark.driver.memory\", \"2g\")\\\n",
    "    .getOrCreate()"
   ]
  },
  {
   "cell_type": "code",
   "execution_count": 13,
   "metadata": {},
   "outputs": [],
   "source": [
    "schema = StructType([StructField(\"user_id\", StringType()), \n",
    "                      StructField(\"occured_at\", StringType()), \n",
    "                      StructField(\"event_type\", StringType())])"
   ]
  },
  {
   "cell_type": "code",
   "execution_count": 14,
   "metadata": {},
   "outputs": [],
   "source": [
    "test_list = (\n",
    "[['16','2014-06-04 09:33:02','engagement'],\n",
    "['16','2014-08-18 09:32:27','engagement'],\n",
    "['16','2014-05-27 09:27:01','engagement'],\n",
    "['16','2014-05-13 19:58:46','engagement'],\n",
    "['16','2014-07-31 15:19:02','engagement'],\n",
    "['16','2014-06-28 15:03:59','signup_flow'],\n",
    "['1547','2014-06-16 17:25:51','engagement'],\n",
    "['1547','2014-07-24 02:58:10','engagement'],\n",
    "['1547','2014-07-07 09:31:51','engagement'],\n",
    "['1547','2014-07-09 01:42:40','engagement']]\n",
    ")"
   ]
  },
  {
   "cell_type": "code",
   "execution_count": 15,
   "metadata": {},
   "outputs": [
    {
     "name": "stdout",
     "output_type": "stream",
     "text": [
      "+-------+-------------------+-----------+\n",
      "|user_id|         occured_at| event_type|\n",
      "+-------+-------------------+-----------+\n",
      "|     16|2014-06-04 09:33:02| engagement|\n",
      "|     16|2014-08-18 09:32:27| engagement|\n",
      "|     16|2014-05-27 09:27:01| engagement|\n",
      "|     16|2014-05-13 19:58:46| engagement|\n",
      "|     16|2014-07-31 15:19:02| engagement|\n",
      "|     16|2014-06-28 15:03:59|signup_flow|\n",
      "|   1547|2014-06-16 17:25:51| engagement|\n",
      "|   1547|2014-07-24 02:58:10| engagement|\n",
      "|   1547|2014-07-07 09:31:51| engagement|\n",
      "|   1547|2014-07-09 01:42:40| engagement|\n",
      "+-------+-------------------+-----------+\n",
      "\n"
     ]
    }
   ],
   "source": [
    "df = spark.createDataFrame(test_list, schema)\n",
    "df.show()"
   ]
  },
  {
   "cell_type": "code",
   "execution_count": 16,
   "metadata": {},
   "outputs": [
    {
     "name": "stderr",
     "output_type": "stream",
     "text": [
      "                                                                                \r"
     ]
    },
    {
     "name": "stdout",
     "output_type": "stream",
     "text": [
      "+-------+-------------------+-----------+-------------------+\n",
      "|user_id|         occured_at| event_type|         last_event|\n",
      "+-------+-------------------+-----------+-------------------+\n",
      "|     16|2014-05-13 19:58:46| engagement|               null|\n",
      "|     16|2014-05-27 09:27:01| engagement|2014-05-13 19:58:46|\n",
      "|     16|2014-06-04 09:33:02| engagement|2014-05-27 09:27:01|\n",
      "|     16|2014-06-28 15:03:59|signup_flow|2014-06-04 09:33:02|\n",
      "|     16|2014-07-31 15:19:02| engagement|2014-06-28 15:03:59|\n",
      "|     16|2014-08-18 09:32:27| engagement|2014-07-31 15:19:02|\n",
      "|   1547|2014-06-16 17:25:51| engagement|               null|\n",
      "|   1547|2014-07-07 09:31:51| engagement|2014-06-16 17:25:51|\n",
      "|   1547|2014-07-09 01:42:40| engagement|2014-07-07 09:31:51|\n",
      "|   1547|2014-07-24 02:58:10| engagement|2014-07-09 01:42:40|\n",
      "+-------+-------------------+-----------+-------------------+\n",
      "\n"
     ]
    }
   ],
   "source": [
    "last_event = df.withColumn(\"last_event\", lag('occured_at').over(Window.partitionBy('user_id').orderBy('occured_at')))\n",
    "last_event.show()"
   ]
  },
  {
   "cell_type": "code",
   "execution_count": 19,
   "metadata": {},
   "outputs": [
    {
     "name": "stdout",
     "output_type": "stream",
     "text": [
      "+-------+-------------------+-----------+-------------------+------------------+\n",
      "|user_id|         occured_at| event_type|         last_event|        lag_in_day|\n",
      "+-------+-------------------+-----------+-------------------+------------------+\n",
      "|     16|2014-05-13 19:58:46| engagement|               null|              null|\n",
      "|     16|2014-05-27 09:27:01| engagement|2014-05-13 19:58:46|325.47083333333336|\n",
      "|     16|2014-06-04 09:33:02| engagement|2014-05-27 09:27:01| 192.1002777777778|\n",
      "|     16|2014-06-28 15:03:59|signup_flow|2014-06-04 09:33:02| 581.5158333333334|\n",
      "|     16|2014-07-31 15:19:02| engagement|2014-06-28 15:03:59| 792.2508333333334|\n",
      "|     16|2014-08-18 09:32:27| engagement|2014-07-31 15:19:02| 426.2236111111111|\n",
      "|   1547|2014-06-16 17:25:51| engagement|               null|              null|\n",
      "|   1547|2014-07-07 09:31:51| engagement|2014-06-16 17:25:51|             496.1|\n",
      "|   1547|2014-07-09 01:42:40| engagement|2014-07-07 09:31:51|40.180277777777775|\n",
      "|   1547|2014-07-24 02:58:10| engagement|2014-07-09 01:42:40| 361.2583333333333|\n",
      "+-------+-------------------+-----------+-------------------+------------------+\n",
      "\n"
     ]
    }
   ],
   "source": [
    "lag_in_day = last_event.withColumn('lag_in_day', (unix_timestamp('occured_at') - unix_timestamp('last_event'))/3600)\n",
    "lag_in_day.show()"
   ]
  },
  {
   "cell_type": "code",
   "execution_count": 26,
   "metadata": {},
   "outputs": [
    {
     "name": "stdout",
     "output_type": "stream",
     "text": [
      "+-------+-------------------+-----------+-------------------+------------------+--------------+\n",
      "|user_id|         occured_at| event_type|         last_event|        lag_in_day|is_new_session|\n",
      "+-------+-------------------+-----------+-------------------+------------------+--------------+\n",
      "|     16|2014-05-13 19:58:46| engagement|               null|              null|             0|\n",
      "|     16|2014-05-27 09:27:01| engagement|2014-05-13 19:58:46|325.47083333333336|             0|\n",
      "|     16|2014-06-04 09:33:02| engagement|2014-05-27 09:27:01| 192.1002777777778|             0|\n",
      "|     16|2014-06-28 15:03:59|signup_flow|2014-06-04 09:33:02| 581.5158333333334|             1|\n",
      "|     16|2014-07-31 15:19:02| engagement|2014-06-28 15:03:59| 792.2508333333334|             1|\n",
      "|     16|2014-08-18 09:32:27| engagement|2014-07-31 15:19:02| 426.2236111111111|             1|\n",
      "|   1547|2014-06-16 17:25:51| engagement|               null|              null|             0|\n",
      "|   1547|2014-07-07 09:31:51| engagement|2014-06-16 17:25:51|             496.1|             1|\n",
      "|   1547|2014-07-09 01:42:40| engagement|2014-07-07 09:31:51|40.180277777777775|             0|\n",
      "|   1547|2014-07-24 02:58:10| engagement|2014-07-09 01:42:40| 361.2583333333333|             0|\n",
      "+-------+-------------------+-----------+-------------------+------------------+--------------+\n",
      "\n"
     ]
    }
   ],
   "source": [
    "new_session = lag_in_day.withColumn('is_new_session', when( col('lag_in_day') > 370 , 1).otherwise(0))\n",
    "new_session.show()"
   ]
  },
  {
   "cell_type": "code",
   "execution_count": 27,
   "metadata": {},
   "outputs": [
    {
     "name": "stdout",
     "output_type": "stream",
     "text": [
      "+-------+-------------------+-----------+-------------------+------------------+--------------+---------------+\n",
      "|user_id|         occured_at| event_type|         last_event|        lag_in_day|is_new_session|user_session_id|\n",
      "+-------+-------------------+-----------+-------------------+------------------+--------------+---------------+\n",
      "|     16|2014-05-13 19:58:46| engagement|               null|              null|             0|              0|\n",
      "|     16|2014-05-27 09:27:01| engagement|2014-05-13 19:58:46|325.47083333333336|             0|              0|\n",
      "|     16|2014-06-04 09:33:02| engagement|2014-05-27 09:27:01| 192.1002777777778|             0|              0|\n",
      "|     16|2014-06-28 15:03:59|signup_flow|2014-06-04 09:33:02| 581.5158333333334|             1|              1|\n",
      "|     16|2014-07-31 15:19:02| engagement|2014-06-28 15:03:59| 792.2508333333334|             1|              2|\n",
      "|     16|2014-08-18 09:32:27| engagement|2014-07-31 15:19:02| 426.2236111111111|             1|              3|\n",
      "|   1547|2014-06-16 17:25:51| engagement|               null|              null|             0|              0|\n",
      "|   1547|2014-07-07 09:31:51| engagement|2014-06-16 17:25:51|             496.1|             1|              1|\n",
      "|   1547|2014-07-09 01:42:40| engagement|2014-07-07 09:31:51|40.180277777777775|             0|              1|\n",
      "|   1547|2014-07-24 02:58:10| engagement|2014-07-09 01:42:40| 361.2583333333333|             0|              1|\n",
      "+-------+-------------------+-----------+-------------------+------------------+--------------+---------------+\n",
      "\n"
     ]
    }
   ],
   "source": [
    "user_session_id = new_session.withColumn(\"user_session_id\", sum('is_new_session').over(Window.partitionBy('user_id').orderBy('occured_at')))\n",
    "user_session_id.show()"
   ]
  },
  {
   "cell_type": "code",
   "execution_count": 53,
   "metadata": {},
   "outputs": [
    {
     "name": "stdout",
     "output_type": "stream",
     "text": [
      "+-------+---------------+-------------------+-------------------+-----+\n",
      "|user_id|user_session_id|      session_start|        session_end|count|\n",
      "+-------+---------------+-------------------+-------------------+-----+\n",
      "|     16|              0|2014-05-13 19:58:46|2014-06-04 09:33:02|    3|\n",
      "|     16|              1|2014-06-28 15:03:59|2014-06-28 15:03:59|    1|\n",
      "|     16|              2|2014-07-31 15:19:02|2014-07-31 15:19:02|    1|\n",
      "|     16|              3|2014-08-18 09:32:27|2014-08-18 09:32:27|    1|\n",
      "|   1547|              0|2014-06-16 17:25:51|2014-06-16 17:25:51|    1|\n",
      "|   1547|              1|2014-07-07 09:31:51|2014-07-24 02:58:10|    3|\n",
      "+-------+---------------+-------------------+-------------------+-----+\n",
      "\n"
     ]
    }
   ],
   "source": [
    "dfsum = user_session_id.groupBy('user_id','user_session_id').agg(min('occured_at').alias('session_start'),max('occured_at').alias('session_end'),count('*').alias('count'))\n",
    "dfsum.show()"
   ]
  },
  {
   "cell_type": "code",
   "execution_count": 52,
   "metadata": {},
   "outputs": [
    {
     "name": "stdout",
     "output_type": "stream",
     "text": [
      "+-------+---------------+-----+\n",
      "|user_id|user_session_id|count|\n",
      "+-------+---------------+-----+\n",
      "|     16|              0|    3|\n",
      "|     16|              1|    1|\n",
      "|     16|              2|    1|\n",
      "|     16|              3|    1|\n",
      "|   1547|              0|    1|\n",
      "|   1547|              1|    3|\n",
      "+-------+---------------+-----+\n",
      "\n"
     ]
    }
   ],
   "source": []
  },
  {
   "cell_type": "code",
   "execution_count": null,
   "metadata": {},
   "outputs": [],
   "source": []
  }
 ],
 "metadata": {
  "interpreter": {
   "hash": "0459351916d1a1afa25b9b99d1f4f6322990844a140b3209168cf3749623bb46"
  },
  "kernelspec": {
   "display_name": "Python 3 (ipykernel)",
   "language": "python",
   "name": "python3"
  },
  "language_info": {
   "codemirror_mode": {
    "name": "ipython",
    "version": 3
   },
   "file_extension": ".py",
   "mimetype": "text/x-python",
   "name": "python",
   "nbconvert_exporter": "python",
   "pygments_lexer": "ipython3",
   "version": "3.9.6"
  }
 },
 "nbformat": 4,
 "nbformat_minor": 2
}
