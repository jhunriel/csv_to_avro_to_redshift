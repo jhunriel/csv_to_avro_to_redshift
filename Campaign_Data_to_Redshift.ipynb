{
 "cells": [
  {
   "cell_type": "code",
   "execution_count": 1,
   "id": "1afde4d1",
   "metadata": {},
   "outputs": [],
   "source": [
    "import pandas as pd\n",
    "import os\n",
    "import psycopg2\n",
    "import boto3"
   ]
  },
  {
   "cell_type": "markdown",
   "id": "ac97ff2a",
   "metadata": {},
   "source": [
    "### Upload to S3"
   ]
  },
  {
   "cell_type": "code",
   "execution_count": 2,
   "id": "2340d5f6",
   "metadata": {},
   "outputs": [],
   "source": [
    "bucket = os.environ[\"AWS_S3_SCRATCH_SPACE\"]\n",
    "iamrole = os.environ[\"STS_ROLE_ARN\"]\n",
    "\n",
    "def upload_s3(file,bucket):\n",
    "    client = boto3.client('s3',\\\n",
    "                          aws_access_key_id = os.environ[\"AWS_ACCESS_KEY_ID\"],\\\n",
    "                          aws_secret_access_key = os.environ[\"AWS_SECRET_ACCESS_KEY\"]\n",
    "                         )\n",
    "    return client.upload_file(file,bucket,file)"
   ]
  },
  {
   "cell_type": "code",
   "execution_count": 3,
   "id": "1b3c2761",
   "metadata": {},
   "outputs": [
    {
     "name": "stdout",
     "output_type": "stream",
     "text": [
      "campaign.csv has been successfully uploaded to S3\n",
      "reward_campaign.csv has been successfully uploaded to S3\n",
      "reward_transaction.csv has been successfully uploaded to S3\n"
     ]
    }
   ],
   "source": [
    "files = ['campaign.csv','reward_campaign.csv','reward_transaction.csv']\n",
    "\n",
    "for i in range(3):\n",
    "    upload_s3(files[i],bucket)\n",
    "    print(f'''{files[i]} has been successfully uploaded to S3''')"
   ]
  },
  {
   "cell_type": "markdown",
   "id": "8dd0ae68",
   "metadata": {},
   "source": [
    "### Load to Redshift"
   ]
  },
  {
   "cell_type": "code",
   "execution_count": 4,
   "id": "00dbce2a",
   "metadata": {},
   "outputs": [],
   "source": [
    "def s3_to_redshift(tbl,file):\n",
    "    conn = psycopg2.connect(\n",
    "        host=os.environ[\"AWS_REDSHIFT_HOST\"],\n",
    "        user=os.environ[\"AWS_REDSHIFT_USER\"],\n",
    "        port=os.environ[\"AWS_REDSHIFT_PORT\"],\n",
    "        password=os.environ[\"AWS_REDSHIFT_PASSWORD\"],\n",
    "        dbname=os.environ[\"DATABASE\"]\n",
    "        )\n",
    "    cur = conn.cursor()\n",
    "    cur.execute(f'''truncate table {tbl};''')\n",
    "    print(f\"{tbl} Successfully Truncated\")\n",
    "    cur.execute(f'''copy {tbl} from 's3://{bucket}/{file}' iam_role '{iamrole}' \n",
    "                ignoreheader 1\n",
    "                delimiter ','\n",
    "                timeformat 'auto'\n",
    "                dateformat 'auto';''')\n",
    "    conn.commit()\n",
    "    conn.close()\n",
    "    print(f\"{tbl} Successfully Loaded\")"
   ]
  },
  {
   "cell_type": "code",
   "execution_count": 7,
   "id": "df659a09",
   "metadata": {},
   "outputs": [
    {
     "name": "stdout",
     "output_type": "stream",
     "text": [
      "campaign Successfully Truncated\n",
      "campaign Successfully Loaded\n",
      "reward_campaign Successfully Truncated\n",
      "reward_campaign Successfully Loaded\n",
      "reward_transaction Successfully Truncated\n",
      "reward_transaction Successfully Loaded\n"
     ]
    }
   ],
   "source": [
    "for i in range(3):\n",
    "    table = files[i][:-4]\n",
    "    file = files[i]\n",
    "    s3_to_redshift(table,file)"
   ]
  },
  {
   "cell_type": "code",
   "execution_count": null,
   "id": "b1d3b572",
   "metadata": {},
   "outputs": [],
   "source": []
  }
 ],
 "metadata": {
  "kernelspec": {
   "display_name": "Python 3.9.6 64-bit ('PerxTech-RuriMiE7': pipenv)",
   "language": "python",
   "name": "python396jvsc74a57bd00459351916d1a1afa25b9b99d1f4f6322990844a140b3209168cf3749623bb46"
  },
  "language_info": {
   "codemirror_mode": {
    "name": "ipython",
    "version": 3
   },
   "file_extension": ".py",
   "mimetype": "text/x-python",
   "name": "python",
   "nbconvert_exporter": "python",
   "pygments_lexer": "ipython3",
   "version": "3.9.6"
  }
 },
 "nbformat": 4,
 "nbformat_minor": 5
}
